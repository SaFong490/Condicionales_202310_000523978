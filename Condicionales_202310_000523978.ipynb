{
  "nbformat": 4,
  "nbformat_minor": 0,
  "metadata": {
    "colab": {
      "provenance": [],
      "authorship_tag": "ABX9TyNUlrg1apKXS8G4JS3Ko+de",
      "include_colab_link": true
    },
    "kernelspec": {
      "name": "python3",
      "display_name": "Python 3"
    },
    "language_info": {
      "name": "python"
    }
  },
  "cells": [
    {
      "cell_type": "markdown",
      "metadata": {
        "id": "view-in-github",
        "colab_type": "text"
      },
      "source": [
        "<a href=\"https://colab.research.google.com/github/SaFong490/Condicionales_202310_000523978/blob/main/Condicionales_202310_000523978.ipynb\" target=\"_parent\"><img src=\"https://colab.research.google.com/assets/colab-badge.svg\" alt=\"Open In Colab\"/></a>"
      ]
    },
    {
      "cell_type": "code",
      "execution_count": null,
      "metadata": {
        "id": "1Xb4yORjBj53"
      },
      "outputs": [],
      "source": []
    },
    {
      "cell_type": "markdown",
      "source": [
        "#**Condicionales_202310**\n",
        "###Samuel David Fong Ramos\n",
        "###ID: 000523978\n",
        "###samuel.fong@upb.edu.co"
      ],
      "metadata": {
        "id": "N7B3Gt22BwkU"
      }
    },
    {
      "cell_type": "code",
      "source": [
        "\n",
        "#Digite su nota obtenida:\n",
        "nota = float(input(\"Digite su nota: \"))\n",
        "#Se utilizan condicionales para establecer el intervalo de las notas y su respectivo mensaje:\n",
        "if nota >= 4.5 and nota < 5.0:\n",
        "  print(\"Su nota es excelente :D, sigue así!\")\n",
        "elif nota >= 4.0 and nota < 4.5:\n",
        "  print(\"Su nota es buena :), sigue avanzando\")\n",
        "elif nota >= 3.0 and nota < 4.0:\n",
        "  print(\"Su nota es regular :/, pero aún puedes mejorar\")\n",
        "elif nota >=0 and nota <3.0:\n",
        "  print(\"Su nota es mala :(, debes trabajar en eso\")\n",
        "#Para no digitar un valor distinto al intervalo comprendido de 0 a 5.0, se utiliza else:\n",
        "else:\n",
        "  print(\"Error, digite una nota entre 0 y 5.0\") "
      ],
      "metadata": {
        "colab": {
          "base_uri": "https://localhost:8080/"
        },
        "id": "K7sfe2paB1va",
        "outputId": "c7df9581-3c3e-44db-9813-fd54782c7505"
      },
      "execution_count": 43,
      "outputs": [
        {
          "output_type": "stream",
          "name": "stdout",
          "text": [
            "Digite su nota: -1\n",
            "Error, digite una nota entre 0 y 5.0\n"
          ]
        }
      ]
    },
    {
      "cell_type": "code",
      "source": [
        "\n"
      ],
      "metadata": {
        "id": "b6WmPH7NE-22"
      },
      "execution_count": 36,
      "outputs": []
    }
  ]
}